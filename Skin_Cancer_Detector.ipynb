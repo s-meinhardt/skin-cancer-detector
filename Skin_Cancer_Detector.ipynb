{
 "cells": [
  {
   "cell_type": "markdown",
   "metadata": {},
   "source": [
    "### Initiating Google Colab"
   ]
  },
  {
   "cell_type": "code",
   "execution_count": null,
   "metadata": {},
   "outputs": [],
   "source": [
    "from google.colab import drive, auth\n",
    "\n",
    "drive.mount('/content/drive', force_remount=True)\n",
    "auth.authenticate_user()\n",
    "\n",
    "BUCKET_NAME = 'cancer_detection_colab'\n",
    "! gsutil ls gs://{BUCKET_NAME}"
   ]
  },
  {
   "cell_type": "markdown",
   "metadata": {},
   "source": [
    "### Importing Libraries"
   ]
  },
  {
   "cell_type": "code",
   "execution_count": 1,
   "metadata": {},
   "outputs": [
    {
     "data": {
      "text/plain": [
       "'2.3.0'"
      ]
     },
     "execution_count": 1,
     "metadata": {},
     "output_type": "execute_result"
    }
   ],
   "source": [
    "import sys\n",
    "LIBRARY_DIR = '/home/sven/Python/TensorFlow-Training/Text'\n",
    "# LIBRARY_DIR = '/content/drive/My Drive'\n",
    "sys.path.append(LIBRARY_DIR)\n",
    "\n",
    "import pandas as pd\n",
    "import tensorflow as tf\n",
    "import os\n",
    "import time\n",
    "from math import ceil as ceil\n",
    "import datetime\n",
    "import logging\n",
    "\n",
    "from tensorflow.keras.preprocessing.image import ImageDataGenerator\n",
    "from tensorflow.keras import Sequential\n",
    "from tensorflow.keras.layers import Conv2D, MaxPooling2D, Dropout, Dense, Flatten\n",
    "from utils.models.skin_cancer_detector import create_labels_with_counts, sort_samples, create_dataset, load_dataset\n",
    "\n",
    "import matplotlib.pyplot as plt\n",
    "import seaborn as sns\n",
    "\n",
    "# disable warnings and infos\n",
    "logging.disable(logging.ERROR)\n",
    "os.environ[\"TF_CPP_MIN_LOG_LEVEL\"] = \"3\"\n",
    "\n",
    "tf.__version__"
   ]
  },
  {
   "cell_type": "markdown",
   "metadata": {},
   "source": [
    "### Initiating a GPU strategy"
   ]
  },
  {
   "cell_type": "code",
   "execution_count": 2,
   "metadata": {},
   "outputs": [
    {
     "name": "stdout",
     "output_type": "stream",
     "text": [
      "PhysicalDevice(name='/physical_device:GPU:0', device_type='GPU')\n",
      "PhysicalDevice(name='/physical_device:GPU:1', device_type='GPU')\n"
     ]
    }
   ],
   "source": [
    "for gpu in tf.config.list_physical_devices('GPU'):\n",
    "    print(gpu)\n",
    "    tf.config.experimental.set_memory_growth(gpu, enable=True)\n",
    "    \n",
    "strategy = tf.distribute.MirroredStrategy()"
   ]
  },
  {
   "cell_type": "markdown",
   "metadata": {},
   "source": [
    "### Initiating a TPU strategy"
   ]
  },
  {
   "cell_type": "code",
   "execution_count": null,
   "metadata": {},
   "outputs": [],
   "source": [
    "try:\n",
    "    resolver = tf.distribute.cluster_resolver.TPUClusterResolver(tpu='grpc://' + os.environ['COLAB_TPU_ADDR'])\n",
    "    print('Running on TPU: ', resolver.cluster_spec().as_dict())\n",
    "except ValueError:\n",
    "    raise BaseException('ERROR: Not connected to a TPU runtime')\n",
    "    \n",
    "tf.config.experimental_connect_to_cluster(resolver)\n",
    "tf.tpu.experimental.initialize_tpu_system(resolver)\n",
    "\n",
    "strategy = tf.distribute.TPUStrategy()"
   ]
  },
  {
   "cell_type": "markdown",
   "metadata": {},
   "source": [
    "### Setting up some parameters"
   ]
  },
  {
   "cell_type": "code",
   "execution_count": 7,
   "metadata": {},
   "outputs": [],
   "source": [
    "AUTOTUNE = tf.data.experimental.AUTOTUNE\n",
    "\n",
    "\n",
    "BASE_DIR = ''\n",
    "# BASE_DIR = f'gs://{BUCKET_NAME}'   # for Colab\n",
    "VERSION = 1\n",
    "MODEL_DIR = os.path.join(BASE_DIR, 'model', f'{VERSION:04d}')\n",
    "LOGS_DIR = os.path.join(BASE_DIR, 'logs')\n",
    "CHECKPOINT_DIR = os.path.join(BASE_DIR, 'checkpoints')\n",
    "DATASET_DIR = '/home/sven/tensorflow_datasets/skin_cancer_mnist'\n",
    "# DATASET_DIR = BASE_DIR   # for Colab\n",
    "\n",
    "\n",
    "BATCH_SIZE = 64 * strategy.num_replicas_in_sync    # divide by 2 for TPU usage\n",
    "BUFFER_SIZE = 10000\n",
    "IMAGE_SIZE = [150, 150]\n",
    "VALIDATION_SPLIT = 0.2 "
   ]
  },
  {
   "cell_type": "code",
   "execution_count": 8,
   "metadata": {},
   "outputs": [
    {
     "data": {
      "text/html": [
       "<div>\n",
       "<style scoped>\n",
       "    .dataframe tbody tr th:only-of-type {\n",
       "        vertical-align: middle;\n",
       "    }\n",
       "\n",
       "    .dataframe tbody tr th {\n",
       "        vertical-align: top;\n",
       "    }\n",
       "\n",
       "    .dataframe thead th {\n",
       "        text-align: right;\n",
       "    }\n",
       "</style>\n",
       "<table border=\"1\" class=\"dataframe\">\n",
       "  <thead>\n",
       "    <tr style=\"text-align: right;\">\n",
       "      <th></th>\n",
       "      <th>lesion_id</th>\n",
       "      <th>image_id</th>\n",
       "      <th>dx</th>\n",
       "      <th>dx_type</th>\n",
       "      <th>age</th>\n",
       "      <th>sex</th>\n",
       "      <th>localization</th>\n",
       "    </tr>\n",
       "  </thead>\n",
       "  <tbody>\n",
       "    <tr>\n",
       "      <th>0</th>\n",
       "      <td>HAM_0000118</td>\n",
       "      <td>ISIC_0027419</td>\n",
       "      <td>bkl</td>\n",
       "      <td>histo</td>\n",
       "      <td>80.0</td>\n",
       "      <td>male</td>\n",
       "      <td>scalp</td>\n",
       "    </tr>\n",
       "    <tr>\n",
       "      <th>1</th>\n",
       "      <td>HAM_0000118</td>\n",
       "      <td>ISIC_0025030</td>\n",
       "      <td>bkl</td>\n",
       "      <td>histo</td>\n",
       "      <td>80.0</td>\n",
       "      <td>male</td>\n",
       "      <td>scalp</td>\n",
       "    </tr>\n",
       "    <tr>\n",
       "      <th>2</th>\n",
       "      <td>HAM_0002730</td>\n",
       "      <td>ISIC_0026769</td>\n",
       "      <td>bkl</td>\n",
       "      <td>histo</td>\n",
       "      <td>80.0</td>\n",
       "      <td>male</td>\n",
       "      <td>scalp</td>\n",
       "    </tr>\n",
       "    <tr>\n",
       "      <th>3</th>\n",
       "      <td>HAM_0002730</td>\n",
       "      <td>ISIC_0025661</td>\n",
       "      <td>bkl</td>\n",
       "      <td>histo</td>\n",
       "      <td>80.0</td>\n",
       "      <td>male</td>\n",
       "      <td>scalp</td>\n",
       "    </tr>\n",
       "    <tr>\n",
       "      <th>4</th>\n",
       "      <td>HAM_0001466</td>\n",
       "      <td>ISIC_0031633</td>\n",
       "      <td>bkl</td>\n",
       "      <td>histo</td>\n",
       "      <td>75.0</td>\n",
       "      <td>male</td>\n",
       "      <td>ear</td>\n",
       "    </tr>\n",
       "    <tr>\n",
       "      <th>...</th>\n",
       "      <td>...</td>\n",
       "      <td>...</td>\n",
       "      <td>...</td>\n",
       "      <td>...</td>\n",
       "      <td>...</td>\n",
       "      <td>...</td>\n",
       "      <td>...</td>\n",
       "    </tr>\n",
       "    <tr>\n",
       "      <th>10010</th>\n",
       "      <td>HAM_0002867</td>\n",
       "      <td>ISIC_0033084</td>\n",
       "      <td>akiec</td>\n",
       "      <td>histo</td>\n",
       "      <td>40.0</td>\n",
       "      <td>male</td>\n",
       "      <td>abdomen</td>\n",
       "    </tr>\n",
       "    <tr>\n",
       "      <th>10011</th>\n",
       "      <td>HAM_0002867</td>\n",
       "      <td>ISIC_0033550</td>\n",
       "      <td>akiec</td>\n",
       "      <td>histo</td>\n",
       "      <td>40.0</td>\n",
       "      <td>male</td>\n",
       "      <td>abdomen</td>\n",
       "    </tr>\n",
       "    <tr>\n",
       "      <th>10012</th>\n",
       "      <td>HAM_0002867</td>\n",
       "      <td>ISIC_0033536</td>\n",
       "      <td>akiec</td>\n",
       "      <td>histo</td>\n",
       "      <td>40.0</td>\n",
       "      <td>male</td>\n",
       "      <td>abdomen</td>\n",
       "    </tr>\n",
       "    <tr>\n",
       "      <th>10013</th>\n",
       "      <td>HAM_0000239</td>\n",
       "      <td>ISIC_0032854</td>\n",
       "      <td>akiec</td>\n",
       "      <td>histo</td>\n",
       "      <td>80.0</td>\n",
       "      <td>male</td>\n",
       "      <td>face</td>\n",
       "    </tr>\n",
       "    <tr>\n",
       "      <th>10014</th>\n",
       "      <td>HAM_0003521</td>\n",
       "      <td>ISIC_0032258</td>\n",
       "      <td>mel</td>\n",
       "      <td>histo</td>\n",
       "      <td>70.0</td>\n",
       "      <td>female</td>\n",
       "      <td>back</td>\n",
       "    </tr>\n",
       "  </tbody>\n",
       "</table>\n",
       "<p>10015 rows × 7 columns</p>\n",
       "</div>"
      ],
      "text/plain": [
       "         lesion_id      image_id     dx dx_type   age     sex localization\n",
       "0      HAM_0000118  ISIC_0027419    bkl   histo  80.0    male        scalp\n",
       "1      HAM_0000118  ISIC_0025030    bkl   histo  80.0    male        scalp\n",
       "2      HAM_0002730  ISIC_0026769    bkl   histo  80.0    male        scalp\n",
       "3      HAM_0002730  ISIC_0025661    bkl   histo  80.0    male        scalp\n",
       "4      HAM_0001466  ISIC_0031633    bkl   histo  75.0    male          ear\n",
       "...            ...           ...    ...     ...   ...     ...          ...\n",
       "10010  HAM_0002867  ISIC_0033084  akiec   histo  40.0    male      abdomen\n",
       "10011  HAM_0002867  ISIC_0033550  akiec   histo  40.0    male      abdomen\n",
       "10012  HAM_0002867  ISIC_0033536  akiec   histo  40.0    male      abdomen\n",
       "10013  HAM_0000239  ISIC_0032854  akiec   histo  80.0    male         face\n",
       "10014  HAM_0003521  ISIC_0032258    mel   histo  70.0  female         back\n",
       "\n",
       "[10015 rows x 7 columns]"
      ]
     },
     "execution_count": 8,
     "metadata": {},
     "output_type": "execute_result"
    }
   ],
   "source": [
    "dataset = pd.read_csv(os.path.join(DATASET_DIR, 'HAM10000_metadata.csv'))\n",
    "dataset"
   ]
  },
  {
   "cell_type": "code",
   "execution_count": 9,
   "metadata": {},
   "outputs": [
    {
     "name": "stdout",
     "output_type": "stream",
     "text": [
      "6705 samples for label nv\n",
      "1113 samples for label mel\n",
      "1099 samples for label bkl\n",
      "514 samples for label bcc\n",
      "327 samples for label akiec\n",
      "142 samples for label vasc\n",
      "115 samples for label df\n"
     ]
    }
   ],
   "source": [
    "LABELS, COUNTS = create_labels_with_counts(DATASET_DIR, metadata_file='HAM10000_metadata.csv', key='dx')\n",
    "for label in LABELS:\n",
    "    print(f'{COUNTS[label]} samples for label {label}')\n",
    "    \n",
    "# Here is an alternative dataset\n",
    "#gcs_pattern = 'gs://flowers-public/tfrecords-jpeg-331x331/*.tfrec'\n",
    "#LABELS = ['daisy', 'dandelion', 'roses', 'sunflowers', 'tulips'] "
   ]
  },
  {
   "cell_type": "markdown",
   "metadata": {},
   "source": [
    "# Loading the dataset"
   ]
  },
  {
   "cell_type": "markdown",
   "metadata": {},
   "source": [
    "### Creating a preprocessed dataset"
   ]
  },
  {
   "cell_type": "code",
   "execution_count": 4,
   "metadata": {
    "jupyter": {
     "source_hidden": true
    }
   },
   "outputs": [],
   "source": [
    "# IMAGE_DIR = os.path.join(DATASET_DIR, 'images')\n",
    "# sort_samples(source_dir = DATASET_DIR, target_dir = IMAGE_DIR)\n",
    "\n",
    "# create_dataset(source_dir = IMAGE_DIR,\n",
    "#                target_dir = DATASET_DIR,   \n",
    "#                image_size = IMAGE_SIZE,   \n",
    "#                validation_split = None,   \n",
    "#                mode = 'tfrecord',   \n",
    "#                shard_size = 500)"
   ]
  },
  {
   "cell_type": "markdown",
   "metadata": {},
   "source": [
    "### Using Kera's ImageDataGenerator"
   ]
  },
  {
   "cell_type": "code",
   "execution_count": 104,
   "metadata": {
    "collapsed": true,
    "jupyter": {
     "outputs_hidden": true,
     "source_hidden": true
    }
   },
   "outputs": [
    {
     "name": "stdout",
     "output_type": "stream",
     "text": [
      "Found 8015 images belonging to 7 classes.\n",
      "Found 2000 images belonging to 7 classes.\n"
     ]
    }
   ],
   "source": [
    "image_gen = ImageDataGenerator(rescale = 1./255,\n",
    "                              # height_shift_range = 0.2,\n",
    "                              # width_shift_range = 0.2,\n",
    "                              # rotation_range = 90,\n",
    "                              # zoom_range = 0.2,\n",
    "                              # shear_range = 45,\n",
    "                              # horizontal_flip = True,\n",
    "                              # vertical_flip = True,\n",
    "                               validation_split = VALIDATION_SPLIT)\n",
    "\n",
    "directory = os.path.join(DATASET_DIR, f'{IMAGE_SIZE[0]}x{IMAGE_SIZE[1]}')\n",
    "\n",
    "train_data = image_gen.flow_from_directory(directory = directory, \n",
    "                                           target_size = IMAGE_SIZE, \n",
    "                                           batch_size = BATCH_SIZE,\n",
    "                                           class_mode = 'sparse',\n",
    "                                           subset = 'training',\n",
    "                                           classes = LABELS)\n",
    "\n",
    "valid_data = image_gen.flow_from_directory(directory = directory, \n",
    "                                           target_size = IMAGE_SIZE, \n",
    "                                           batch_size = BATCH_SIZE,\n",
    "                                           class_mode = 'sparse',\n",
    "                                           subset = 'validation', \n",
    "                                           classes = LABELS)"
   ]
  },
  {
   "cell_type": "markdown",
   "metadata": {},
   "source": [
    "### Using Kera's image_dataset_from_directory (requires TF version 2.3)"
   ]
  },
  {
   "cell_type": "code",
   "execution_count": 8,
   "metadata": {
    "collapsed": true,
    "jupyter": {
     "outputs_hidden": true,
     "source_hidden": true
    }
   },
   "outputs": [
    {
     "name": "stdout",
     "output_type": "stream",
     "text": [
      "Found 10015 files belonging to 7 classes.\n",
      "Using 8012 files for training.\n",
      "Found 10015 files belonging to 7 classes.\n",
      "Using 2003 files for validation.\n"
     ]
    }
   ],
   "source": [
    "directory = os.path.join(DATASET_DIR, f'{IMAGE_SIZE[0]}x{IMAGE_SIZE[1]}')\n",
    "\n",
    "train_data = tf.keras.preprocessing.image_dataset_from_directory(\n",
    "    directory=IMAGE_DIR,\n",
    "    class_names=LABELS,\n",
    "    batch_size=BATCH_SIZE,\n",
    "    image_size=IMAGE_SIZE,\n",
    "    validation_split=VALIDATION_SPLIT,\n",
    "    subset='training',\n",
    "    seed=1)\n",
    "\n",
    "train_data = train_data.map(lambda x,y: (x/255., y), num_parallel_calls=AUTOTUNE)\n",
    "train_data = train_data.cache().repeat().prefetch(AUTOTUNE)\n",
    "\n",
    "valid_data = tf.keras.preprocessing.image_dataset_from_directory(\n",
    "    directory=IMAGE_DIR,\n",
    "    class_names=LABELS,\n",
    "    batch_size=BATCH_SIZE,\n",
    "    image_size=IMAGE_SIZE,\n",
    "    validation_split=VALIDATION_SPLIT,\n",
    "    subset='validation',\n",
    "    seed=1)\n",
    "\n",
    "valid_data = valid_data.map(lambda x,y: (x/255., y), num_parallel_calls=AUTOTUNE)\n",
    "valid_data = valid_data.cache().repeat().prefetch(AUTOTUNE)\n",
    "n_train = 8012\n",
    "n_valid = 2003"
   ]
  },
  {
   "cell_type": "markdown",
   "metadata": {},
   "source": [
    "### Creating a (balanced) dataset by hand"
   ]
  },
  {
   "cell_type": "code",
   "execution_count": 78,
   "metadata": {},
   "outputs": [
    {
     "name": "stdout",
     "output_type": "stream",
     "text": [
      "8015 training samples in 63 batches\n",
      "2000 validation samples in 16 batches\n"
     ]
    }
   ],
   "source": [
    "mode = 'tfrecord'\n",
    "train_dir = os.path.join(DATASET_DIR, f'{mode}_{IMAGE_SIZE[0]}x{IMAGE_SIZE[1]}', 'training')\n",
    "valid_dir = os.path.join(DATASET_DIR, f'{mode}_{IMAGE_SIZE[0]}x{IMAGE_SIZE[1]}', 'validation')\n",
    "\n",
    "train_data, n_train = load_dataset(directory=train_dir, \n",
    "                          mode=mode, \n",
    "                          batch_size=BATCH_SIZE, \n",
    "                          balanced=True, \n",
    "                          augmented=True,\n",
    "                          image_size=IMAGE_SIZE)\n",
    "\n",
    "valid_data, n_valid = load_dataset(directory=valid_dir, \n",
    "                          mode=mode, \n",
    "                          batch_size=BATCH_SIZE, \n",
    "                          balanced=True, \n",
    "                          augmented=False,\n",
    "                          image_size=IMAGE_SIZE)\n",
    "\n",
    "\n",
    "train_steps = ceil(n_train/BATCH_SIZE)\n",
    "valid_steps = ceil(n_valid/BATCH_SIZE)\n",
    "print(f'{n_train} training samples in {train_steps} batches')\n",
    "print(f'{n_valid} validation samples in {valid_steps} batches')"
   ]
  },
  {
   "cell_type": "markdown",
   "metadata": {},
   "source": [
    "### Inspecting batch number 10001"
   ]
  },
  {
   "cell_type": "code",
   "execution_count": 79,
   "metadata": {},
   "outputs": [
    {
     "name": "stdout",
     "output_type": "stream",
     "text": [
      "loaded the data in 0.327 seconds\n",
      "\n",
      "image batch has shape (128, 150, 150, 3) and dtype float32\n",
      "label batch has shape (128,) and dtype int64\n",
      "number of images per label: [17, 12, 21, 24, 18, 20, 16]\n",
      "\n",
      "class of first image:  bcc\n",
      "a part of the first image:\n",
      " [[0.8156863  0.827451   0.83137256 0.8235294 ]\n",
      " [0.8156863  0.8235294  0.8235294  0.81960785]\n",
      " [0.8156863  0.8156863  0.8117647  0.8156863 ]\n",
      " [0.8156863  0.8117647  0.8117647  0.8156863 ]]\n"
     ]
    },
    {
     "data": {
      "image/png": "[encoded data removed]",
      "text/plain": [
       "<Figure size 432x288 with 1 Axes>"
      ]
     },
     "metadata": {
      "needs_background": "light"
     },
     "output_type": "display_data"
    }
   ],
   "source": [
    "start = time.perf_counter()\n",
    "x, y = next(iter(valid_data.skip(10000)))\n",
    "print(f'loaded the data in {time.perf_counter()-start:.3f} seconds\\n', )\n",
    "print(f'image batch has shape {x.shape} and dtype {x.dtype.name}')\n",
    "print(f'label batch has shape {y.shape} and dtype {y.dtype.name}')\n",
    "\n",
    "l = 7*[0]\n",
    "for e in y:\n",
    "    l[e.numpy()] += 1\n",
    "print('number of images per label:', l)\n",
    "\n",
    "print('\\nclass of first image: ', LABELS[y[0].numpy()])\n",
    "print('a part of the first image:\\n', x[0,50:54,50:54,0].numpy())\n",
    "res = plt.imshow(x[0])"
   ]
  },
  {
   "cell_type": "code",
   "execution_count": 77,
   "metadata": {},
   "outputs": [
    {
     "data": {
      "text/plain": [
       "TensorShape([150, 150, 3])"
      ]
     },
     "execution_count": 77,
     "metadata": {},
     "output_type": "execute_result"
    }
   ],
   "source": [
    "x[0].set_shape([*IMAGE_SIZE,3])\n",
    "x[0].get_shape()"
   ]
  },
  {
   "cell_type": "markdown",
   "metadata": {},
   "source": [
    "# Buidling and training a model"
   ]
  },
  {
   "cell_type": "markdown",
   "metadata": {},
   "source": [
    "## 1st Model"
   ]
  },
  {
   "cell_type": "code",
   "execution_count": 8,
   "metadata": {},
   "outputs": [
    {
     "name": "stdout",
     "output_type": "stream",
     "text": [
      "Model: \"sequential\"\n",
      "_________________________________________________________________\n",
      "Layer (type)                 Output Shape              Param #   \n",
      "=================================================================\n",
      "conv2d (Conv2D)              (None, 148, 148, 16)      448       \n",
      "_________________________________________________________________\n",
      "conv2d_1 (Conv2D)            (None, 146, 146, 16)      2320      \n",
      "_________________________________________________________________\n",
      "max_pooling2d (MaxPooling2D) (None, 48, 48, 16)        0         \n",
      "_________________________________________________________________\n",
      "dropout (Dropout)            (None, 48, 48, 16)        0         \n",
      "_________________________________________________________________\n",
      "conv2d_2 (Conv2D)            (None, 46, 46, 32)        4640      \n",
      "_________________________________________________________________\n",
      "conv2d_3 (Conv2D)            (None, 44, 44, 32)        9248      \n",
      "_________________________________________________________________\n",
      "max_pooling2d_1 (MaxPooling2 (None, 14, 14, 32)        0         \n",
      "_________________________________________________________________\n",
      "dropout_1 (Dropout)          (None, 14, 14, 32)        0         \n",
      "_________________________________________________________________\n",
      "flatten (Flatten)            (None, 6272)              0         \n",
      "_________________________________________________________________\n",
      "dense (Dense)                (None, 512)               3211776   \n",
      "_________________________________________________________________\n",
      "dense_1 (Dense)              (None, 7)                 3591      \n",
      "=================================================================\n",
      "Total params: 3,232,023\n",
      "Trainable params: 3,232,023\n",
      "Non-trainable params: 0\n",
      "_________________________________________________________________\n"
     ]
    }
   ],
   "source": [
    "with strategy.scope():\n",
    "    model = Sequential([\n",
    "            Conv2D(16, [3,3], activation='relu', input_shape=[*IMAGE_SIZE,3]),\n",
    "            Conv2D(16, [3,3], activation='relu'),\n",
    "            MaxPooling2D([3,3]),\n",
    "            Dropout(0.2),\n",
    "            Conv2D(32, [3,3], activation='relu'),\n",
    "            Conv2D(32, [3,3], activation='relu'),\n",
    "            MaxPooling2D([3,3]),\n",
    "            Dropout(0.2),\n",
    "            Flatten(),\n",
    "            Dense(512, activation='relu'),\n",
    "            Dense(len(LABELS), activation='softmax')\n",
    "            ])\n",
    "    \n",
    "    model.compile(loss='sparse_categorical_crossentropy',\n",
    "                  optimizer=tf.keras.optimizers.Adam(lr=0.001),\n",
    "                  metrics=[tf.keras.metrics.SparseCategoricalAccuracy()]\n",
    "                 )\n",
    "    \n",
    "model.summary()"
   ]
  },
  {
   "cell_type": "code",
   "execution_count": 9,
   "metadata": {},
   "outputs": [
    {
     "data": {
      "text/plain": [
       "<tensorflow.python.keras.callbacks.History at 0x7f2ef40d9390>"
      ]
     },
     "execution_count": 9,
     "metadata": {},
     "output_type": "execute_result"
    }
   ],
   "source": [
    "ES = tf.keras.callbacks.EarlyStopping(monitor='val_sparse_categorical_accuracy', min_delta=0.001, patience=50, mode='max', restore_best_weights=True)\n",
    "TB = tf.keras.callbacks.TensorBoard(log_dir=os.path.join(LOGS_DIR, datetime.datetime.now().strftime(\"%Y%m%d-%H%M%S\")))\n",
    "LR = tf.keras.callbacks.ReduceLROnPlateau(monitor='val_loss', factor=0.3, patience=10)\n",
    "model.fit(train_data, \n",
    "          validation_data=valid_data, \n",
    "          steps_per_epoch=train_steps, \n",
    "          epochs=10, \n",
    "          validation_steps=valid_steps, \n",
    "          verbose=0, \n",
    "          callbacks=[ES, TB, LR]\n",
    "         )"
   ]
  },
  {
   "cell_type": "markdown",
   "metadata": {},
   "source": [
    "### Inspecting the accuracy of the model"
   ]
  },
  {
   "cell_type": "code",
   "execution_count": 40,
   "metadata": {},
   "outputs": [
    {
     "name": "stdout",
     "output_type": "stream",
     "text": [
      "Accuracy: 46.10%\n",
      "Confusion Matrix\n"
     ]
    },
    {
     "data": {
      "image/png": "[encoded data removed]",
      "text/plain": [
       "<Figure size 432x288 with 2 Axes>"
      ]
     },
     "metadata": {
      "needs_background": "light"
     },
     "output_type": "display_data"
    }
   ],
   "source": [
    "y_pred = tf.constant([], tf.int32)\n",
    "y_true = tf.constant([], tf.int32)\n",
    "for x, y in valid_data.take(valid_steps):\n",
    "    y_pred = tf.concat([y_pred, tf.cast(model.predict_classes(x), tf.int32)], axis=0)\n",
    "    y_true = tf.concat([y_true, tf.cast(y, tf.int32)], axis=0)\n",
    "    \n",
    "cm = tf.math.confusion_matrix(y_true, y_pred)\n",
    "# cmap = sns.cubehelix_palette(light=1, as_cmap=True)\n",
    "cmap = 'Blues'\n",
    "sns.heatmap(100*cm/tf.reduce_sum(cm, axis=1), annot=True, vmin=0.0, vmax=100., \n",
    "                  xticklabels = LABELS, yticklabels= LABELS, \n",
    "                  fmt='.1f', cmap=cmap)\n",
    "\n",
    "print(f'Accuracy: {100* tf.reduce_mean(tf.cast(y_true == y_pred, tf.float32)).numpy():.2f}%')\n",
    "print('Confusion Matrix')"
   ]
  },
  {
   "cell_type": "code",
   "execution_count": 53,
   "metadata": {
    "jupyter": {
     "source_hidden": true
    }
   },
   "outputs": [],
   "source": [
    "model.save(MODEL_DIR)"
   ]
  },
  {
   "cell_type": "markdown",
   "metadata": {},
   "source": [
    "## 2nd Model"
   ]
  },
  {
   "cell_type": "code",
   "execution_count": 45,
   "metadata": {},
   "outputs": [
    {
     "name": "stdout",
     "output_type": "stream",
     "text": [
      "Model: \"sequential_6\"\n",
      "_________________________________________________________________\n",
      "Layer (type)                 Output Shape              Param #   \n",
      "=================================================================\n",
      "conv2d_23 (Conv2D)           (None, 150, 150, 16)      448       \n",
      "_________________________________________________________________\n",
      "max_pooling2d_13 (MaxPooling (None, 75, 75, 16)        0         \n",
      "_________________________________________________________________\n",
      "conv2d_24 (Conv2D)           (None, 75, 75, 32)        4640      \n",
      "_________________________________________________________________\n",
      "max_pooling2d_14 (MaxPooling (None, 37, 37, 32)        0         \n",
      "_________________________________________________________________\n",
      "conv2d_25 (Conv2D)           (None, 37, 37, 64)        18496     \n",
      "_________________________________________________________________\n",
      "max_pooling2d_15 (MaxPooling (None, 18, 18, 64)        0         \n",
      "_________________________________________________________________\n",
      "flatten_6 (Flatten)          (None, 20736)             0         \n",
      "_________________________________________________________________\n",
      "dense_12 (Dense)             (None, 512)               10617344  \n",
      "_________________________________________________________________\n",
      "dense_13 (Dense)             (None, 7)                 3591      \n",
      "=================================================================\n",
      "Total params: 10,644,519\n",
      "Trainable params: 10,644,519\n",
      "Non-trainable params: 0\n",
      "_________________________________________________________________\n"
     ]
    }
   ],
   "source": [
    "with strategy.scope():\n",
    "    model2 = Sequential([\n",
    "            Conv2D(16, 3, padding = 'same', activation = 'relu', input_shape = [*IMAGE_SIZE, 3]),\n",
    "            MaxPooling2D(),  # use pool_size = (2,2)\n",
    "            Conv2D(32, 3, padding = 'same', activation = 'relu'),\n",
    "            MaxPooling2D(),\n",
    "            Conv2D(64, 3, padding = 'same', activation = 'relu'),\n",
    "            MaxPooling2D(),\n",
    "            Flatten(),\n",
    "            Dense(512, activation = 'relu'),\n",
    "            Dense(7, activation='softmax')\n",
    "        ])\n",
    "    model2.compile(loss = tf.keras.losses.SparseCategoricalCrossentropy(), \n",
    "                   optimizer = 'adam', \n",
    "                   metrics = [tf.keras.metrics.SparseCategoricalAccuracy()])\n",
    "    \n",
    "    \n",
    "model2.summary()"
   ]
  },
  {
   "cell_type": "code",
   "execution_count": 48,
   "metadata": {
    "collapsed": true,
    "jupyter": {
     "outputs_hidden": true
    }
   },
   "outputs": [
    {
     "name": "stdout",
     "output_type": "stream",
     "text": [
      "Epoch 1/500\n",
      "63/63 [==============================] - 4s 60ms/step - loss: 1.9274 - sparse_categorical_accuracy: 0.2381 - val_loss: 1.6317 - val_sparse_categorical_accuracy: 0.3450\n",
      "Epoch 2/500\n",
      "63/63 [==============================] - 2s 36ms/step - loss: 1.6922 - sparse_categorical_accuracy: 0.3265 - val_loss: 1.5208 - val_sparse_categorical_accuracy: 0.3865\n",
      "Epoch 3/500\n",
      "63/63 [==============================] - 2s 36ms/step - loss: 1.5979 - sparse_categorical_accuracy: 0.3807 - val_loss: 1.4492 - val_sparse_categorical_accuracy: 0.4330\n",
      "Epoch 4/500\n",
      "63/63 [==============================] - 2s 36ms/step - loss: 1.5120 - sparse_categorical_accuracy: 0.4168 - val_loss: 1.3939 - val_sparse_categorical_accuracy: 0.4520\n",
      "Epoch 5/500\n",
      "63/63 [==============================] - 2s 36ms/step - loss: 1.4552 - sparse_categorical_accuracy: 0.4425 - val_loss: 1.3900 - val_sparse_categorical_accuracy: 0.4570\n",
      "Epoch 6/500\n",
      "63/63 [==============================] - 2s 37ms/step - loss: 1.4180 - sparse_categorical_accuracy: 0.4596 - val_loss: 1.3961 - val_sparse_categorical_accuracy: 0.4585\n",
      "Epoch 7/500\n",
      "63/63 [==============================] - 2s 36ms/step - loss: 1.3704 - sparse_categorical_accuracy: 0.4826 - val_loss: 1.2906 - val_sparse_categorical_accuracy: 0.4860\n",
      "Epoch 8/500\n",
      "63/63 [==============================] - 2s 36ms/step - loss: 1.3130 - sparse_categorical_accuracy: 0.5032 - val_loss: 1.3169 - val_sparse_categorical_accuracy: 0.5080\n",
      "Epoch 9/500\n",
      "63/63 [==============================] - 2s 36ms/step - loss: 1.2694 - sparse_categorical_accuracy: 0.5185 - val_loss: 1.3112 - val_sparse_categorical_accuracy: 0.4930\n",
      "Epoch 10/500\n",
      "63/63 [==============================] - 2s 36ms/step - loss: 1.2259 - sparse_categorical_accuracy: 0.5363 - val_loss: 1.3060 - val_sparse_categorical_accuracy: 0.5060\n",
      "Epoch 11/500\n",
      "63/63 [==============================] - 2s 37ms/step - loss: 1.1556 - sparse_categorical_accuracy: 0.5665 - val_loss: 1.2604 - val_sparse_categorical_accuracy: 0.5165\n",
      "Epoch 12/500\n",
      "63/63 [==============================] - 2s 37ms/step - loss: 1.1085 - sparse_categorical_accuracy: 0.5751 - val_loss: 1.2982 - val_sparse_categorical_accuracy: 0.5200\n",
      "Epoch 13/500\n",
      "63/63 [==============================] - 2s 37ms/step - loss: 1.0572 - sparse_categorical_accuracy: 0.6076 - val_loss: 1.3287 - val_sparse_categorical_accuracy: 0.5005\n",
      "Epoch 14/500\n",
      "63/63 [==============================] - 2s 37ms/step - loss: 0.9886 - sparse_categorical_accuracy: 0.6282 - val_loss: 1.3691 - val_sparse_categorical_accuracy: 0.5230\n",
      "Epoch 15/500\n",
      "63/63 [==============================] - 2s 36ms/step - loss: 0.9525 - sparse_categorical_accuracy: 0.6372 - val_loss: 1.4023 - val_sparse_categorical_accuracy: 0.5145\n",
      "Epoch 16/500\n",
      "63/63 [==============================] - 2s 36ms/step - loss: 0.8840 - sparse_categorical_accuracy: 0.6677 - val_loss: 1.4430 - val_sparse_categorical_accuracy: 0.5150\n",
      "Epoch 17/500\n",
      "63/63 [==============================] - 2s 36ms/step - loss: 0.8468 - sparse_categorical_accuracy: 0.6840 - val_loss: 1.4683 - val_sparse_categorical_accuracy: 0.5180\n",
      "Epoch 18/500\n",
      "63/63 [==============================] - 2s 36ms/step - loss: 0.8217 - sparse_categorical_accuracy: 0.6917 - val_loss: 1.4855 - val_sparse_categorical_accuracy: 0.5345\n",
      "Epoch 19/500\n",
      "63/63 [==============================] - 2s 36ms/step - loss: 0.8193 - sparse_categorical_accuracy: 0.6967 - val_loss: 1.4361 - val_sparse_categorical_accuracy: 0.5360\n",
      "Epoch 20/500\n",
      "63/63 [==============================] - 2s 36ms/step - loss: 0.7315 - sparse_categorical_accuracy: 0.7299 - val_loss: 1.5629 - val_sparse_categorical_accuracy: 0.5140\n",
      "Epoch 21/500\n",
      "63/63 [==============================] - 2s 36ms/step - loss: 0.7126 - sparse_categorical_accuracy: 0.7328 - val_loss: 1.5810 - val_sparse_categorical_accuracy: 0.5535\n",
      "Epoch 22/500\n",
      "63/63 [==============================] - 2s 36ms/step - loss: 0.6796 - sparse_categorical_accuracy: 0.7485 - val_loss: 1.6185 - val_sparse_categorical_accuracy: 0.5310\n",
      "Epoch 23/500\n",
      "63/63 [==============================] - 2s 36ms/step - loss: 0.6401 - sparse_categorical_accuracy: 0.7654 - val_loss: 1.7528 - val_sparse_categorical_accuracy: 0.5165\n",
      "Epoch 24/500\n",
      "63/63 [==============================] - 2s 35ms/step - loss: 0.6213 - sparse_categorical_accuracy: 0.7726 - val_loss: 1.8691 - val_sparse_categorical_accuracy: 0.5100\n",
      "Epoch 25/500\n",
      "63/63 [==============================] - 2s 36ms/step - loss: 0.5745 - sparse_categorical_accuracy: 0.7841 - val_loss: 1.9355 - val_sparse_categorical_accuracy: 0.5010\n",
      "Epoch 26/500\n",
      "63/63 [==============================] - 2s 36ms/step - loss: 0.5650 - sparse_categorical_accuracy: 0.7919 - val_loss: 1.8429 - val_sparse_categorical_accuracy: 0.5250\n",
      "Epoch 27/500\n",
      "63/63 [==============================] - 2s 36ms/step - loss: 0.5199 - sparse_categorical_accuracy: 0.8142 - val_loss: 2.1760 - val_sparse_categorical_accuracy: 0.4940\n",
      "Epoch 28/500\n",
      "63/63 [==============================] - 2s 35ms/step - loss: 0.4833 - sparse_categorical_accuracy: 0.8244 - val_loss: 2.1775 - val_sparse_categorical_accuracy: 0.5295\n",
      "Epoch 29/500\n",
      "63/63 [==============================] - 2s 36ms/step - loss: 0.4830 - sparse_categorical_accuracy: 0.8255 - val_loss: 2.2547 - val_sparse_categorical_accuracy: 0.5275\n",
      "Epoch 30/500\n",
      "63/63 [==============================] - 2s 36ms/step - loss: 0.4559 - sparse_categorical_accuracy: 0.8371 - val_loss: 2.2648 - val_sparse_categorical_accuracy: 0.4925\n",
      "Epoch 31/500\n",
      "63/63 [==============================] - 2s 36ms/step - loss: 0.4501 - sparse_categorical_accuracy: 0.8411 - val_loss: 2.4167 - val_sparse_categorical_accuracy: 0.5015\n",
      "Epoch 32/500\n",
      "63/63 [==============================] - 2s 36ms/step - loss: 0.4272 - sparse_categorical_accuracy: 0.8487 - val_loss: 2.4222 - val_sparse_categorical_accuracy: 0.5080\n",
      "Epoch 33/500\n",
      "63/63 [==============================] - 2s 36ms/step - loss: 0.4261 - sparse_categorical_accuracy: 0.8455 - val_loss: 2.2997 - val_sparse_categorical_accuracy: 0.5185\n",
      "Epoch 34/500\n",
      "63/63 [==============================] - 2s 36ms/step - loss: 0.3761 - sparse_categorical_accuracy: 0.8627 - val_loss: 2.7515 - val_sparse_categorical_accuracy: 0.5020\n",
      "Epoch 35/500\n",
      "63/63 [==============================] - 2s 36ms/step - loss: 0.3564 - sparse_categorical_accuracy: 0.8728 - val_loss: 2.4708 - val_sparse_categorical_accuracy: 0.5060\n",
      "Epoch 36/500\n",
      "63/63 [==============================] - 2s 36ms/step - loss: 0.3531 - sparse_categorical_accuracy: 0.8751 - val_loss: 2.7210 - val_sparse_categorical_accuracy: 0.5140\n",
      "Epoch 37/500\n",
      "63/63 [==============================] - 2s 36ms/step - loss: 0.3286 - sparse_categorical_accuracy: 0.8793 - val_loss: 2.8377 - val_sparse_categorical_accuracy: 0.5070\n",
      "Epoch 38/500\n",
      "63/63 [==============================] - 2s 35ms/step - loss: 0.3404 - sparse_categorical_accuracy: 0.8787 - val_loss: 2.8474 - val_sparse_categorical_accuracy: 0.4860\n",
      "Epoch 39/500\n",
      "63/63 [==============================] - 2s 35ms/step - loss: 0.3099 - sparse_categorical_accuracy: 0.8906 - val_loss: 2.8822 - val_sparse_categorical_accuracy: 0.5045\n",
      "Epoch 40/500\n",
      "63/63 [==============================] - 2s 36ms/step - loss: 0.3048 - sparse_categorical_accuracy: 0.8912 - val_loss: 3.1945 - val_sparse_categorical_accuracy: 0.4695\n",
      "Epoch 41/500\n",
      "63/63 [==============================] - 2s 36ms/step - loss: 0.3000 - sparse_categorical_accuracy: 0.8922 - val_loss: 3.0850 - val_sparse_categorical_accuracy: 0.4905\n"
     ]
    },
    {
     "data": {
      "text/plain": [
       "<tensorflow.python.keras.callbacks.History at 0x7f6a53955978>"
      ]
     },
     "execution_count": 48,
     "metadata": {},
     "output_type": "execute_result"
    }
   ],
   "source": [
    "ES = tf.keras.callbacks.EarlyStopping(monitor='val_sparse_categorical_accuracy', min_delta=0.001, patience=30, mode='max', restore_best_weights=True)\n",
    "TB = tf.keras.callbacks.TensorBoard(log_dir=os.path.join(LOGS_DIR, datetime.datetime.now().strftime(\"%Y%m%d-%H%M%S\")))\n",
    "LR = tf.keras.callbacks.ReduceLROnPlateau(monitor='val_loss', factor=0.3, patience=10)\n",
    "model2.fit(train_data, \n",
    "          validation_data=valid_data, \n",
    "          steps_per_epoch=train_steps, \n",
    "          epochs=500, \n",
    "          validation_steps=valid_steps, \n",
    "          verbose=0, \n",
    "          callbacks=[ES, TB]\n",
    "         )"
   ]
  },
  {
   "cell_type": "markdown",
   "metadata": {},
   "source": [
    "### Inspecting the accuracy of the model"
   ]
  },
  {
   "cell_type": "code",
   "execution_count": null,
   "metadata": {},
   "outputs": [],
   "source": [
    "y_pred = tf.constant([], tf.int32)\n",
    "y_true = tf.constant([], tf.int32)\n",
    "for x, y in valid_data.take(valid_steps):\n",
    "    y_pred = tf.concat([y_pred, tf.cast(model2.predict_classes(x), tf.int32)], axis=0)\n",
    "    y_true = tf.concat([y_true, tf.cast(y, tf.int32)], axis=0)\n",
    "    \n",
    "cm = tf.math.confusion_matrix(y_true, y_pred)\n",
    "# cmap = sns.cubehelix_palette(light=1, as_cmap=True)\n",
    "cmap = 'Blues'\n",
    "sns.heatmap(100*cm/tf.reduce_sum(cm, axis=1), annot=True, vmin=0.0, vmax=100., \n",
    "                  xticklabels = LABELS, yticklabels= LABELS, \n",
    "                  fmt='.1f', cmap=cmap)\n",
    "\n",
    "print(f'Accuracy: {100* tf.reduce_mean(tf.cast(y_true == y_pred, tf.float32)).numpy():.2f}%')\n",
    "print('Confusion Matrix')"
   ]
  },
  {
   "cell_type": "code",
   "execution_count": null,
   "metadata": {
    "jupyter": {
     "source_hidden": true
    }
   },
   "outputs": [],
   "source": [
    "model2.save(MODEL_DIR)"
   ]
  },
  {
   "cell_type": "markdown",
   "metadata": {},
   "source": [
    "## 3rd Model"
   ]
  },
  {
   "cell_type": "code",
   "execution_count": 9,
   "metadata": {},
   "outputs": [
    {
     "name": "stdout",
     "output_type": "stream",
     "text": [
      "Model: \"sequential\"\n",
      "_________________________________________________________________\n",
      "Layer (type)                 Output Shape              Param #   \n",
      "=================================================================\n",
      "xception (Functional)        (None, 5, 5, 2048)        20861480  \n",
      "_________________________________________________________________\n",
      "global_average_pooling2d (Gl (None, 2048)              0         \n",
      "_________________________________________________________________\n",
      "dense (Dense)                (None, 7)                 14343     \n",
      "=================================================================\n",
      "Total params: 20,875,823\n",
      "Trainable params: 20,821,295\n",
      "Non-trainable params: 54,528\n",
      "_________________________________________________________________\n"
     ]
    }
   ],
   "source": [
    "with strategy.scope():\n",
    "    pretrained_model = tf.keras.applications.Xception(input_shape=[*IMAGE_SIZE, 3], include_top=False)\n",
    "    pretrained_model.trainable = True\n",
    "    model3 = tf.keras.Sequential([\n",
    "            pretrained_model,\n",
    "            tf.keras.layers.GlobalAveragePooling2D(),\n",
    "            tf.keras.layers.Dense(len(LABELS), activation='softmax')\n",
    "            ])\n",
    "    model3.compile(\n",
    "            optimizer='adam',\n",
    "            loss = 'sparse_categorical_crossentropy',\n",
    "            metrics=[tf.keras.metrics.SparseCategoricalAccuracy()])\n",
    "\n",
    "\n",
    "model3.summary()"
   ]
  },
  {
   "cell_type": "code",
   "execution_count": 80,
   "metadata": {},
   "outputs": [
    {
     "name": "stdout",
     "output_type": "stream",
     "text": [
      "Learning rate per epoch:\n"
     ]
    },
    {
     "data": {
      "image/png": "[encoded data removed]",
      "text/plain": [
       "<Figure size 432x288 with 1 Axes>"
      ]
     },
     "metadata": {
      "needs_background": "light"
     },
     "output_type": "display_data"
    }
   ],
   "source": [
    "EPOCHS = 50\n",
    "\n",
    "\n",
    "start_lr = 0.00001\n",
    "min_lr = 0.00001\n",
    "max_lr = 0.00005 * strategy.num_replicas_in_sync\n",
    "rampup_epochs = 5\n",
    "sustain_epochs = 0\n",
    "exp_decay = .9\n",
    "\n",
    "def lrfn(epoch):\n",
    "    if epoch < rampup_epochs:\n",
    "        return (max_lr - start_lr)/rampup_epochs * epoch + start_lr\n",
    "    elif epoch < rampup_epochs + sustain_epochs:\n",
    "        return max_lr\n",
    "    else:\n",
    "        return (max_lr - min_lr) * exp_decay**(epoch-rampup_epochs-sustain_epochs) + min_lr\n",
    "      \n",
    "lr_callback = tf.keras.callbacks.LearningRateScheduler(lambda epoch: lrfn(epoch), verbose=False)\n",
    "\n",
    "rang = tf.range(EPOCHS).numpy()\n",
    "y = [lrfn(x) for x in rang]\n",
    "plt.plot(rang, y)\n",
    "print('Learning rate per epoch:')"
   ]
  },
  {
   "cell_type": "code",
   "execution_count": 11,
   "metadata": {
    "collapsed": true,
    "jupyter": {
     "outputs_hidden": true
    }
   },
   "outputs": [
    {
     "name": "stdout",
     "output_type": "stream",
     "text": [
      "\n",
      "Epoch 00001: LearningRateScheduler reducing learning rate to 1e-05.\n",
      "\n",
      "Epoch 00002: LearningRateScheduler reducing learning rate to 2.8000000000000003e-05.\n",
      "\n",
      "Epoch 00003: LearningRateScheduler reducing learning rate to 4.6e-05.\n",
      "\n",
      "Epoch 00004: LearningRateScheduler reducing learning rate to 6.4e-05.\n",
      "\n",
      "Epoch 00005: LearningRateScheduler reducing learning rate to 8.2e-05.\n",
      "\n",
      "Epoch 00006: LearningRateScheduler reducing learning rate to 0.0001.\n",
      "\n",
      "Epoch 00007: LearningRateScheduler reducing learning rate to 8.2e-05.\n",
      "\n",
      "Epoch 00008: LearningRateScheduler reducing learning rate to 6.760000000000002e-05.\n",
      "\n",
      "Epoch 00009: LearningRateScheduler reducing learning rate to 5.608000000000001e-05.\n",
      "\n",
      "Epoch 00010: LearningRateScheduler reducing learning rate to 4.686400000000001e-05.\n",
      "\n",
      "Epoch 00011: LearningRateScheduler reducing learning rate to 3.949120000000001e-05.\n",
      "\n",
      "Epoch 00012: LearningRateScheduler reducing learning rate to 3.359296000000001e-05.\n",
      "\n",
      "Epoch 00013: LearningRateScheduler reducing learning rate to 2.887436800000001e-05.\n",
      "\n",
      "Epoch 00014: LearningRateScheduler reducing learning rate to 2.509949440000001e-05.\n",
      "\n",
      "Epoch 00015: LearningRateScheduler reducing learning rate to 2.207959552000001e-05.\n",
      "\n",
      "Epoch 00016: LearningRateScheduler reducing learning rate to 1.9663676416000005e-05.\n",
      "\n",
      "Epoch 00017: LearningRateScheduler reducing learning rate to 1.7730941132800006e-05.\n",
      "\n",
      "Epoch 00018: LearningRateScheduler reducing learning rate to 1.6184752906240005e-05.\n",
      "\n",
      "Epoch 00019: LearningRateScheduler reducing learning rate to 1.4947802324992005e-05.\n",
      "\n",
      "Epoch 00020: LearningRateScheduler reducing learning rate to 1.3958241859993605e-05.\n",
      "\n",
      "Epoch 00021: LearningRateScheduler reducing learning rate to 1.3166593487994884e-05.\n",
      "\n",
      "Epoch 00022: LearningRateScheduler reducing learning rate to 1.2533274790395908e-05.\n",
      "\n",
      "Epoch 00023: LearningRateScheduler reducing learning rate to 1.2026619832316725e-05.\n",
      "\n",
      "Epoch 00024: LearningRateScheduler reducing learning rate to 1.1621295865853382e-05.\n",
      "\n",
      "Epoch 00025: LearningRateScheduler reducing learning rate to 1.1297036692682704e-05.\n",
      "\n",
      "Epoch 00026: LearningRateScheduler reducing learning rate to 1.1037629354146164e-05.\n",
      "\n",
      "Epoch 00027: LearningRateScheduler reducing learning rate to 1.0830103483316932e-05.\n",
      "\n",
      "Epoch 00028: LearningRateScheduler reducing learning rate to 1.0664082786653546e-05.\n",
      "\n",
      "Epoch 00029: LearningRateScheduler reducing learning rate to 1.0531266229322836e-05.\n",
      "\n",
      "Epoch 00030: LearningRateScheduler reducing learning rate to 1.042501298345827e-05.\n",
      "\n",
      "Epoch 00031: LearningRateScheduler reducing learning rate to 1.0340010386766616e-05.\n",
      "\n",
      "Epoch 00032: LearningRateScheduler reducing learning rate to 1.0272008309413293e-05.\n",
      "\n",
      "Epoch 00033: LearningRateScheduler reducing learning rate to 1.0217606647530635e-05.\n"
     ]
    },
    {
     "data": {
      "text/plain": [
       "<tensorflow.python.keras.callbacks.History at 0x7f0d9c198e10>"
      ]
     },
     "execution_count": 11,
     "metadata": {},
     "output_type": "execute_result"
    }
   ],
   "source": [
    "ES = tf.keras.callbacks.EarlyStopping(monitor='val_sparse_categorical_accuracy', min_delta=0.001, patience=20, mode='max', restore_best_weights=True)\n",
    "TB = tf.keras.callbacks.TensorBoard(log_dir=os.path.join(LOGS_DIR, datetime.datetime.now().strftime(\"%Y%m%d-%H%M%S\")))\n",
    "LR = tf.keras.callbacks.ReduceLROnPlateau(monitor='val_loss', factor=0.3, patience=10)\n",
    "CKPT = tf.keras.callbacks.ModelCheckpoint(filepath=os.path.join(CHECKPOINT_DIR, 'ckpt') , \n",
    "                                          monitor='val_sparse_categorical_accuracy', \n",
    "                                          mode='max', \n",
    "                                          save_best_only=True, \n",
    "                                          save_weights_only=True)\n",
    "model3.fit(train_data, \n",
    "          validation_data=valid_data, \n",
    "          steps_per_epoch=train_steps, \n",
    "          epochs=EPOCHS, \n",
    "          validation_steps=valid_steps, \n",
    "          verbose=0, \n",
    "          callbacks=[ES, TB, lr_callback, CKPT]\n",
    "         )"
   ]
  },
  {
   "cell_type": "markdown",
   "metadata": {},
   "source": [
    "### Inspecting the accuracy of the model"
   ]
  },
  {
   "cell_type": "code",
   "execution_count": 39,
   "metadata": {},
   "outputs": [
    {
     "name": "stdout",
     "output_type": "stream",
     "text": [
      "Accuracy: 46.10%\n",
      "Confusion Matrix\n"
     ]
    },
    {
     "data": {
      "image/png": "[encoded data removed]",
      "text/plain": [
       "<Figure size 432x288 with 2 Axes>"
      ]
     },
     "metadata": {
      "needs_background": "light"
     },
     "output_type": "display_data"
    }
   ],
   "source": [
    "y_pred = tf.constant([], tf.int32)\n",
    "y_true = tf.constant([], tf.int32)\n",
    "for x, y in valid_data.take(valid_steps):\n",
    "    y_pred = tf.concat([y_pred, tf.cast(model3.predict_classes(x), tf.int32)], axis=0)\n",
    "    y_true = tf.concat([y_true, tf.cast(y, tf.int32)], axis=0)\n",
    "    \n",
    "cm = tf.math.confusion_matrix(y_true, y_pred)\n",
    "# cmap = sns.cubehelix_palette(light=1, as_cmap=True)\n",
    "cmap = 'Blues'\n",
    "sns.heatmap(100*cm/tf.reduce_sum(cm, axis=1), annot=True, vmin=0.0, vmax=100., \n",
    "                  xticklabels = LABELS, yticklabels= LABELS, \n",
    "                  fmt='.1f', cmap=cmap)\n",
    "\n",
    "print(f'Accuracy: {100* tf.reduce_mean(tf.cast(y_true == y_pred, tf.float32)).numpy():.2f}%')\n",
    "print('Confusion Matrix')"
   ]
  },
  {
   "cell_type": "code",
   "execution_count": 13,
   "metadata": {
    "jupyter": {
     "source_hidden": true
    }
   },
   "outputs": [],
   "source": [
    "model3.save(MODEL_DIR)"
   ]
  },
  {
   "cell_type": "code",
   "execution_count": 96,
   "metadata": {},
   "outputs": [
    {
     "name": "stdout",
     "output_type": "stream",
     "text": [
      "8 3\n",
      "6 5\n",
      "7 3\n",
      "8 9\n",
      "4 7\n",
      "3 6\n",
      "5 6\n",
      "7 6\n",
      "3 1\n",
      "6 2\n",
      "7 8\n",
      "6 5\n",
      "7 5\n",
      "4 3\n",
      "6 1\n",
      "7 6\n",
      "6 4\n",
      "3 2\n",
      "4 5\n",
      "2 1\n",
      "6 8\n",
      "8 3\n",
      "2 6\n",
      "3 7\n",
      "9 6\n",
      "3 9\n",
      "7 4\n",
      "2 5\n",
      "2 4\n",
      "4 1\n",
      "6 1\n",
      "6 7\n",
      "4 6\n",
      "4 3\n",
      "2 8\n",
      "3 9\n",
      "3 8\n",
      "5 5\n",
      "7 8\n",
      "9 5\n",
      "6 7\n",
      "7 6\n",
      "5 9\n",
      "1 5\n",
      "1 9\n",
      "8 7\n",
      "2 3\n",
      "6 8\n",
      "6 1\n",
      "4 7\n",
      "7 9\n",
      "1 9\n",
      "9 4\n",
      "5 9\n",
      "9 1\n",
      "7 8\n",
      "9 9\n",
      "7 8\n",
      "8 8\n",
      "7 7\n",
      "4 8\n",
      "5 4\n",
      "5 6\n",
      "5 7\n",
      "6 9\n",
      "6 1\n",
      "5 9\n",
      "5 8\n",
      "1 4\n",
      "9 5\n",
      "4 8\n",
      "6 4\n",
      "6 2\n",
      "8 6\n",
      "6 8\n",
      "1 7\n",
      "3 8\n",
      "4 3\n",
      "1 9\n",
      "1 1\n",
      "5 7\n",
      "4 4\n",
      "1 4\n",
      "4 5\n",
      "1 2\n",
      "1 6\n",
      "6 2\n",
      "6 1\n",
      "9 3\n",
      "3 6\n",
      "3 4\n",
      "7 5\n",
      "5 2\n",
      "7 1\n",
      "9 2\n",
      "8 8\n",
      "3 9\n",
      "9 6\n",
      "2 1\n",
      "8 7\n"
     ]
    }
   ],
   "source": [
    "ds = tf.data.Dataset.from_tensor_slices((tf.random.uniform(shape=[100],dtype=tf.int32, minval=1, maxval=10),\n",
    "                                        tf.random.uniform(shape=[100],dtype=tf.int32, minval=1, maxval=10)))\n",
    "for x,y in ds:\n",
    "    print(x.numpy(), y.numpy())"
   ]
  },
  {
   "cell_type": "code",
   "execution_count": 97,
   "metadata": {},
   "outputs": [
    {
     "name": "stdout",
     "output_type": "stream",
     "text": [
      "[8 8 8 8 8 8 8 8] [3 3 3]\n",
      "[6 6 6 6 6 6] [5 5 5 5 5]\n",
      "[7 7 7 7 7 7 7] [3 3 3]\n",
      "[8 8 8 8 8 8 8 8] [9 9 9 9 9 9 9 9 9]\n",
      "[4 4 4 4] [7 7 7 7 7 7 7]\n",
      "[3 3 3] [6 6 6 6 6 6]\n",
      "[5 5 5 5 5] [6 6 6 6 6 6]\n",
      "[7 7 7 7 7 7 7] [6 6 6 6 6 6]\n",
      "[3 3 3] [1]\n",
      "[6 6 6 6 6 6] [2 2]\n"
     ]
    }
   ],
   "source": [
    "ds_s = ds.map(lambda x,y: (x*tf.ones_like(tf.range(x)),y*tf.ones_like(tf.range(y))))\n",
    "for x,y in ds_s.take(10):\n",
    "    print(x.numpy(), y.numpy())"
   ]
  },
  {
   "cell_type": "code",
   "execution_count": 111,
   "metadata": {},
   "outputs": [],
   "source": [
    "ds_b = ds_s.apply(tf.data.experimental.bucket_by_sequence_length(lambda x,y: tf.math.maximum(tf.shape(x),tf.shape(y)), \n",
    "                                                               bucket_boundaries=[3,6,10],\n",
    "                                                               bucket_batch_sizes=4*[10],\n",
    "                                                            ))"
   ]
  },
  {
   "cell_type": "code",
   "execution_count": 112,
   "metadata": {},
   "outputs": [
    {
     "name": "stdout",
     "output_type": "stream",
     "text": [
      "\n",
      "\n",
      "Batch number 0\n",
      "\n",
      "[[8 8 8 8 8 8 8 8]\n",
      " [6 6 6 6 6 6 0 0]\n",
      " [7 7 7 7 7 7 7 0]\n",
      " [8 8 8 8 8 8 8 8]\n",
      " [4 4 4 4 0 0 0 0]\n",
      " [3 3 3 0 0 0 0 0]\n",
      " [5 5 5 5 5 0 0 0]\n",
      " [7 7 7 7 7 7 7 0]\n",
      " [6 6 6 6 6 6 0 0]\n",
      " [7 7 7 7 7 7 7 0]] \n",
      "\n",
      "[[3 3 3 0 0 0 0 0 0]\n",
      " [5 5 5 5 5 0 0 0 0]\n",
      " [3 3 3 0 0 0 0 0 0]\n",
      " [9 9 9 9 9 9 9 9 9]\n",
      " [7 7 7 7 7 7 7 0 0]\n",
      " [6 6 6 6 6 6 0 0 0]\n",
      " [6 6 6 6 6 6 0 0 0]\n",
      " [6 6 6 6 6 6 0 0 0]\n",
      " [2 2 0 0 0 0 0 0 0]\n",
      " [8 8 8 8 8 8 8 8 0]]\n",
      "\n",
      "\n",
      "Batch number 1\n",
      "\n",
      "[[6 6 6 6 6 6 0 0 0]\n",
      " [7 7 7 7 7 7 7 0 0]\n",
      " [6 6 6 6 6 6 0 0 0]\n",
      " [7 7 7 7 7 7 7 0 0]\n",
      " [6 6 6 6 6 6 0 0 0]\n",
      " [6 6 6 6 6 6 0 0 0]\n",
      " [8 8 8 8 8 8 8 8 0]\n",
      " [2 2 0 0 0 0 0 0 0]\n",
      " [3 3 3 0 0 0 0 0 0]\n",
      " [9 9 9 9 9 9 9 9 9]] \n",
      "\n",
      "[[5 5 5 5 5 0 0 0]\n",
      " [5 5 5 5 5 0 0 0]\n",
      " [1 0 0 0 0 0 0 0]\n",
      " [6 6 6 6 6 6 0 0]\n",
      " [4 4 4 4 0 0 0 0]\n",
      " [8 8 8 8 8 8 8 8]\n",
      " [3 3 3 0 0 0 0 0]\n",
      " [6 6 6 6 6 6 0 0]\n",
      " [7 7 7 7 7 7 7 0]\n",
      " [6 6 6 6 6 6 0 0]]\n",
      "\n",
      "\n",
      "Batch number 2\n",
      "\n",
      "[[3 3 3 0 0 0 0 0 0]\n",
      " [7 7 7 7 7 7 7 0 0]\n",
      " [6 6 6 6 6 6 0 0 0]\n",
      " [6 6 6 6 6 6 0 0 0]\n",
      " [4 4 4 4 0 0 0 0 0]\n",
      " [2 2 0 0 0 0 0 0 0]\n",
      " [3 3 3 0 0 0 0 0 0]\n",
      " [3 3 3 0 0 0 0 0 0]\n",
      " [7 7 7 7 7 7 7 0 0]\n",
      " [9 9 9 9 9 9 9 9 9]] \n",
      "\n",
      "[[9 9 9 9 9 9 9 9 9]\n",
      " [4 4 4 4 0 0 0 0 0]\n",
      " [1 0 0 0 0 0 0 0 0]\n",
      " [7 7 7 7 7 7 7 0 0]\n",
      " [6 6 6 6 6 6 0 0 0]\n",
      " [8 8 8 8 8 8 8 8 0]\n",
      " [9 9 9 9 9 9 9 9 9]\n",
      " [8 8 8 8 8 8 8 8 0]\n",
      " [8 8 8 8 8 8 8 8 0]\n",
      " [5 5 5 5 5 0 0 0 0]]\n",
      "\n",
      "\n",
      "Batch number 3\n",
      "\n",
      "[[3 3 3 0 0]\n",
      " [4 4 4 4 0]\n",
      " [3 3 3 0 0]\n",
      " [4 4 4 4 0]\n",
      " [2 2 0 0 0]\n",
      " [2 2 0 0 0]\n",
      " [4 4 4 4 0]\n",
      " [4 4 4 4 0]\n",
      " [5 5 5 5 5]\n",
      " [1 0 0 0 0]] \n",
      "\n",
      "[[1 0 0 0 0]\n",
      " [3 3 3 0 0]\n",
      " [2 2 0 0 0]\n",
      " [5 5 5 5 5]\n",
      " [5 5 5 5 5]\n",
      " [4 4 4 4 0]\n",
      " [1 0 0 0 0]\n",
      " [3 3 3 0 0]\n",
      " [5 5 5 5 5]\n",
      " [5 5 5 5 5]]\n",
      "\n",
      "\n",
      "Batch number 4\n",
      "\n",
      "[[6 6 6 6 6 6 0 0]\n",
      " [7 7 7 7 7 7 7 0]\n",
      " [5 5 5 5 5 0 0 0]\n",
      " [1 0 0 0 0 0 0 0]\n",
      " [8 8 8 8 8 8 8 8]\n",
      " [6 6 6 6 6 6 0 0]\n",
      " [6 6 6 6 6 6 0 0]\n",
      " [4 4 4 4 0 0 0 0]\n",
      " [7 7 7 7 7 7 7 0]\n",
      " [1 0 0 0 0 0 0 0]] \n",
      "\n",
      "[[7 7 7 7 7 7 7 0 0]\n",
      " [6 6 6 6 6 6 0 0 0]\n",
      " [9 9 9 9 9 9 9 9 9]\n",
      " [9 9 9 9 9 9 9 9 9]\n",
      " [7 7 7 7 7 7 7 0 0]\n",
      " [8 8 8 8 8 8 8 8 0]\n",
      " [1 0 0 0 0 0 0 0 0]\n",
      " [7 7 7 7 7 7 7 0 0]\n",
      " [9 9 9 9 9 9 9 9 9]\n",
      " [9 9 9 9 9 9 9 9 9]]\n",
      "\n",
      "\n",
      "Batch number 5\n",
      "\n",
      "[[9 9 9 9 9 9 9 9 9]\n",
      " [5 5 5 5 5 0 0 0 0]\n",
      " [9 9 9 9 9 9 9 9 9]\n",
      " [7 7 7 7 7 7 7 0 0]\n",
      " [9 9 9 9 9 9 9 9 9]\n",
      " [7 7 7 7 7 7 7 0 0]\n",
      " [8 8 8 8 8 8 8 8 0]\n",
      " [7 7 7 7 7 7 7 0 0]\n",
      " [4 4 4 4 0 0 0 0 0]\n",
      " [5 5 5 5 5 0 0 0 0]] \n",
      "\n",
      "[[4 4 4 4 0 0 0 0 0]\n",
      " [9 9 9 9 9 9 9 9 9]\n",
      " [1 0 0 0 0 0 0 0 0]\n",
      " [8 8 8 8 8 8 8 8 0]\n",
      " [9 9 9 9 9 9 9 9 9]\n",
      " [8 8 8 8 8 8 8 8 0]\n",
      " [8 8 8 8 8 8 8 8 0]\n",
      " [7 7 7 7 7 7 7 0 0]\n",
      " [8 8 8 8 8 8 8 8 0]\n",
      " [6 6 6 6 6 6 0 0 0]]\n",
      "\n",
      "\n",
      "Batch number 6\n",
      "\n",
      "[[5 5 5 5 5 0 0 0 0]\n",
      " [6 6 6 6 6 6 0 0 0]\n",
      " [6 6 6 6 6 6 0 0 0]\n",
      " [5 5 5 5 5 0 0 0 0]\n",
      " [5 5 5 5 5 0 0 0 0]\n",
      " [9 9 9 9 9 9 9 9 9]\n",
      " [4 4 4 4 0 0 0 0 0]\n",
      " [6 6 6 6 6 6 0 0 0]\n",
      " [6 6 6 6 6 6 0 0 0]\n",
      " [8 8 8 8 8 8 8 8 0]] \n",
      "\n",
      "[[7 7 7 7 7 7 7 0 0]\n",
      " [9 9 9 9 9 9 9 9 9]\n",
      " [1 0 0 0 0 0 0 0 0]\n",
      " [9 9 9 9 9 9 9 9 9]\n",
      " [8 8 8 8 8 8 8 8 0]\n",
      " [5 5 5 5 5 0 0 0 0]\n",
      " [8 8 8 8 8 8 8 8 0]\n",
      " [4 4 4 4 0 0 0 0 0]\n",
      " [2 2 0 0 0 0 0 0 0]\n",
      " [6 6 6 6 6 6 0 0 0]]\n",
      "\n",
      "\n",
      "Batch number 7\n",
      "\n",
      "[[6 6 6 6 6 6 0 0 0]\n",
      " [1 0 0 0 0 0 0 0 0]\n",
      " [3 3 3 0 0 0 0 0 0]\n",
      " [1 0 0 0 0 0 0 0 0]\n",
      " [5 5 5 5 5 0 0 0 0]\n",
      " [1 0 0 0 0 0 0 0 0]\n",
      " [6 6 6 6 6 6 0 0 0]\n",
      " [6 6 6 6 6 6 0 0 0]\n",
      " [9 9 9 9 9 9 9 9 9]\n",
      " [3 3 3 0 0 0 0 0 0]] \n",
      "\n",
      "[[8 8 8 8 8 8 8 8 0]\n",
      " [7 7 7 7 7 7 7 0 0]\n",
      " [8 8 8 8 8 8 8 8 0]\n",
      " [9 9 9 9 9 9 9 9 9]\n",
      " [7 7 7 7 7 7 7 0 0]\n",
      " [6 6 6 6 6 6 0 0 0]\n",
      " [2 2 0 0 0 0 0 0 0]\n",
      " [1 0 0 0 0 0 0 0 0]\n",
      " [3 3 3 0 0 0 0 0 0]\n",
      " [6 6 6 6 6 6 0 0 0]]\n",
      "\n",
      "\n",
      "Batch number 8\n",
      "\n",
      "[[2 2]\n",
      " [1 0]\n",
      " [1 0]\n",
      " [2 2]] \n",
      "\n",
      "[[1 0]\n",
      " [1 0]\n",
      " [2 2]\n",
      " [1 0]]\n",
      "\n",
      "\n",
      "Batch number 9\n",
      "\n",
      "[[2 2 0 0 0]\n",
      " [5 5 5 5 5]\n",
      " [1 0 0 0 0]\n",
      " [4 4 4 4 0]\n",
      " [4 4 4 4 0]\n",
      " [1 0 0 0 0]\n",
      " [4 4 4 4 0]\n",
      " [3 3 3 0 0]\n",
      " [5 5 5 5 5]] \n",
      "\n",
      "[[3 3 3 0 0]\n",
      " [4 4 4 4 0]\n",
      " [4 4 4 4 0]\n",
      " [3 3 3 0 0]\n",
      " [4 4 4 4 0]\n",
      " [4 4 4 4 0]\n",
      " [5 5 5 5 5]\n",
      " [4 4 4 4 0]\n",
      " [2 2 0 0 0]]\n",
      "\n",
      "\n",
      "Batch number 10\n",
      "\n",
      "[[7 7 7 7 7 7 7 0 0]\n",
      " [7 7 7 7 7 7 7 0 0]\n",
      " [9 9 9 9 9 9 9 9 9]\n",
      " [8 8 8 8 8 8 8 8 0]\n",
      " [3 3 3 0 0 0 0 0 0]\n",
      " [9 9 9 9 9 9 9 9 9]\n",
      " [8 8 8 8 8 8 8 8 0]] \n",
      "\n",
      "[[5 5 5 5 5 0 0 0 0]\n",
      " [1 0 0 0 0 0 0 0 0]\n",
      " [2 2 0 0 0 0 0 0 0]\n",
      " [8 8 8 8 8 8 8 8 0]\n",
      " [9 9 9 9 9 9 9 9 9]\n",
      " [6 6 6 6 6 6 0 0 0]\n",
      " [7 7 7 7 7 7 7 0 0]]\n"
     ]
    }
   ],
   "source": [
    "for n, (x,y) in ds_b.enumerate():\n",
    "    print(f'\\n\\nBatch number {n}\\n')\n",
    "    print(x.numpy(), '\\n')\n",
    "    print(y.numpy())"
   ]
  },
  {
   "cell_type": "code",
   "execution_count": 91,
   "metadata": {},
   "outputs": [
    {
     "data": {
      "text/plain": [
       "[0, 1, 2, 3]"
      ]
     },
     "execution_count": 91,
     "metadata": {},
     "output_type": "execute_result"
    }
   ],
   "source": [
    "list(range(4))"
   ]
  },
  {
   "cell_type": "code",
   "execution_count": null,
   "metadata": {},
   "outputs": [],
   "source": []
  }
 ],
 "metadata": {
  "kernelspec": {
   "display_name": "Env-1",
   "language": "python",
   "name": "env-1"
  },
  "language_info": {
   "codemirror_mode": {
    "name": "ipython",
    "version": 3
   },
   "file_extension": ".py",
   "mimetype": "text/x-python",
   "name": "python",
   "nbconvert_exporter": "python",
   "pygments_lexer": "ipython3",
   "version": "3.8.2"
  }
 },
 "nbformat": 4,
 "nbformat_minor": 4
}
